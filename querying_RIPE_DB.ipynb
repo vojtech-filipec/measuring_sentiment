{
 "cells": [
  {
   "cell_type": "markdown",
   "metadata": {},
   "source": [
    "# Getting Details of an IP Address\n",
    "\n",
    "Goal: Find out as much as possible from a (remote) IP address using any of the public databases.\n",
    "\n",
    "\n",
    "## IpData.co\n",
    "This service has a Python and Javascript library ([description here](https://docs.ipdata.co/overview/libraries/python)), but for the sake of generality we query the service via `requests`."
   ]
  },
  {
   "cell_type": "code",
   "execution_count": 1,
   "metadata": {},
   "outputs": [],
   "source": [
    "import requests\n",
    "import config"
   ]
  },
  {
   "cell_type": "code",
   "execution_count": 2,
   "metadata": {},
   "outputs": [],
   "source": [
    "# config.IPDATA_CO_KEY"
   ]
  },
  {
   "cell_type": "code",
   "execution_count": 3,
   "metadata": {},
   "outputs": [],
   "source": [
    "test_ip = '86.49.93.146'"
   ]
  },
  {
   "cell_type": "code",
   "execution_count": 22,
   "metadata": {},
   "outputs": [],
   "source": [
    "# the non-parametrised call reads like:\n",
    "r = requests.get('https://api.ipdata.co/86.49.93.146?api-key='+config.IPDATA_CO_KEY)"
   ]
  },
  {
   "cell_type": "code",
   "execution_count": 31,
   "metadata": {},
   "outputs": [
    {
     "data": {
      "text/plain": [
       "200"
      ]
     },
     "execution_count": 31,
     "metadata": {},
     "output_type": "execute_result"
    }
   ],
   "source": [
    "# the parametrised version reads like:\n",
    "r = requests.get('https://api.ipdata.co/'+test_ip+'/ISP',\n",
    "                 params={'api-key':config.IPDATA_CO_KEY});\n",
    "r.status_code"
   ]
  },
  {
   "cell_type": "code",
   "execution_count": 32,
   "metadata": {},
   "outputs": [
    {
     "data": {
      "text/plain": [
       "{'asn': 'AS6830',\n",
       " 'calling_code': '420',\n",
       " 'city': 'Nelahozeves',\n",
       " 'continent_code': 'EU',\n",
       " 'continent_name': 'Europe',\n",
       " 'count': '8',\n",
       " 'country_code': 'CZ',\n",
       " 'country_name': 'Czechia',\n",
       " 'currency': {'code': 'CZK',\n",
       "  'name': 'Czech Republic Koruna',\n",
       "  'native': 'Kč',\n",
       "  'plural': 'Czech Republic korunas',\n",
       "  'symbol': 'Kč'},\n",
       " 'emoji_flag': '🇨🇿',\n",
       " 'emoji_unicode': 'U+1F1E8 U+1F1FF',\n",
       " 'flag': 'https://ipdata.co/flags/cz.png',\n",
       " 'ip': '86.49.93.146',\n",
       " 'is_eu': True,\n",
       " 'languages': [{'name': 'Czech', 'native': 'Česky'},\n",
       "  {'name': 'Slovak', 'native': 'Slovenčina'}],\n",
       " 'latitude': 50.2667,\n",
       " 'longitude': 14.3,\n",
       " 'organisation': 'Liberty Global B.V.',\n",
       " 'postal': '277 51',\n",
       " 'region': 'Central Bohemia',\n",
       " 'region_code': '20',\n",
       " 'threat': {'is_anonymous': False,\n",
       "  'is_bogon': False,\n",
       "  'is_known_abuser': False,\n",
       "  'is_known_attacker': False,\n",
       "  'is_proxy': False,\n",
       "  'is_threat': False,\n",
       "  'is_tor': False},\n",
       " 'time_zone': {'abbr': 'CEST',\n",
       "  'current_time': '2019-05-28T17:03:53.464634+02:00',\n",
       "  'is_dst': True,\n",
       "  'name': 'Europe/Prague',\n",
       "  'offset': '+0200'}}"
      ]
     },
     "execution_count": 32,
     "metadata": {},
     "output_type": "execute_result"
    }
   ],
   "source": [
    "r.json()"
   ]
  },
  {
   "cell_type": "markdown",
   "metadata": {},
   "source": [
    "## IpInfo.io"
   ]
  },
  {
   "cell_type": "code",
   "execution_count": 6,
   "metadata": {},
   "outputs": [
    {
     "data": {
      "text/plain": [
       "<Response [200]>"
      ]
     },
     "execution_count": 6,
     "metadata": {},
     "output_type": "execute_result"
    }
   ],
   "source": [
    "requests.get('https://ipinfo.io/'+test_ip+'?token=91929c0f99cd9c')"
   ]
  },
  {
   "cell_type": "markdown",
   "metadata": {},
   "source": [
    "How to find out about a company:\n",
    "> The free and basic plans include an `org` field in the API response that combined the AS number and name. \n",
    "\n",
    "However, this is only the provider, not the \"consumer\" of the IP address."
   ]
  },
  {
   "cell_type": "code",
   "execution_count": 38,
   "metadata": {},
   "outputs": [
    {
     "data": {
      "text/plain": [
       "{'city': 'Zizkov',\n",
       " 'country': 'CZ',\n",
       " 'hostname': '86.49.93.146.static.b2b.upcbusiness.cz',\n",
       " 'ip': '86.49.93.146',\n",
       " 'loc': '50.0833,14.4500',\n",
       " 'org': 'AS6830 Liberty Global B.V.',\n",
       " 'postal': '264 01',\n",
       " 'region': 'Stredocesky kraj'}"
      ]
     },
     "execution_count": 38,
     "metadata": {},
     "output_type": "execute_result"
    }
   ],
   "source": [
    "_.json()"
   ]
  },
  {
   "cell_type": "markdown",
   "metadata": {},
   "source": [
    "conclusion: not very rich either\n",
    "\n",
    "## WhoIs\n",
    "\n",
    "list of APIs from the welcome-email:\n",
    "- WHOIS API: https://whoisapi.whoisxmlapi.com\n",
    "- Email Verification API: https://emailverification.whoisxmlapi.com\n",
    "- IP Geolocation API: https://geoipify.whoisxmlapi.com\n",
    "- Reverse IP API: https://reverse-ip-api.whoisxmlapi.com\n",
    "- Reverse MX API: https://reverse-mx-api.whoisxmlapi.com\n",
    "- Reverse NS API: https://reverse-ns-api.whoisxmlapi.com\n",
    "- Other APIs: https://whoisxmlapi.com"
   ]
  },
  {
   "cell_type": "markdown",
   "metadata": {},
   "source": [
    "### WHOIS API"
   ]
  },
  {
   "cell_type": "code",
   "execution_count": 11,
   "metadata": {},
   "outputs": [],
   "source": [
    "r= requests.get('https://www.whoisxmlapi.com/whoisserver/WhoisService',\n",
    "               params={'outputFormat':'JSON',\n",
    "                      'apiKey': config.WHOIS_KEY,\n",
    "                      'domainName': test_ip}\n",
    "               )"
   ]
  },
  {
   "cell_type": "code",
   "execution_count": 12,
   "metadata": {},
   "outputs": [
    {
     "data": {
      "text/plain": [
       "{'WhoisRecord': {'audit': {'createdDate': '2019-05-28 15:19:08.000 UTC',\n",
       "   'updatedDate': '2019-05-28 15:19:08.000 UTC'},\n",
       "  'contactEmail': 'abuse@upcmail.cz',\n",
       "  'domainName': '86.49.93.146',\n",
       "  'estimatedDomainAge': 1273,\n",
       "  'parseCode': 8,\n",
       "  'registrarIANAID': '1507',\n",
       "  'registrarName': 'RIPE',\n",
       "  'registryData': {'audit': {'createdDate': '2019-05-28 15:19:08.000 UTC',\n",
       "    'updatedDate': '2019-05-28 15:19:08.000 UTC'},\n",
       "   'createdDate': '2015-12-02T10:43:29Z',\n",
       "   'createdDateNormalized': '2015-12-02 00:00:00 UTC',\n",
       "   'customField1Name': 'netRange',\n",
       "   'customField1Value': '86.49.93.144 - 86.49.93.151',\n",
       "   'customField2Name': 'netName',\n",
       "   'customField2Value': 'CZ-EMU',\n",
       "   'customField3Name': 'ASN',\n",
       "   'customField3Value': 'AS6830',\n",
       "   'domainName': '86.49.93.146',\n",
       "   'header': '% This is the RIPE Database query service.\\n% The objects are in RPSL format.\\n%\\n% The RIPE Database is subject to Terms and Conditions.\\n% See http://www.ripe.net/db/support/db-terms-conditions.pdf\\n% This is the RIPE Database query service.\\n% The objects are in RPSL format.\\n%\\n% The RIPE Database is subject to Terms and Conditions.\\n% See http://www.ripe.net/db/support/db-terms-conditions.pdf',\n",
       "   'parseCode': 1081,\n",
       "   'rawText': \"% This is the RIPE Database query service.\\n% The objects are in RPSL format.\\n%\\n% The RIPE Database is subject to Terms and Conditions.\\n% See http://www.ripe.net/db/support/db-terms-conditions.pdf\\n\\n% Information related to '86.49.93.144 - 86.49.93.151'\\n\\n% Abuse contact for '86.49.93.144 - 86.49.93.151' is 'abuse@upcmail.cz'\\n\\ninetnum:        86.49.93.144 - 86.49.93.151\\nnetname:        CZ-EMU\\ndescr:          EMU - HR Innovations s.r.o.\\ndescr:          Praha\\ncountry:        CZ\\nadmin-c:        MB46829-RIPE\\ntech-c:         MB46829-RIPE\\nstatus:         ASSIGNED PA\\nmnt-by:         DKI-MNT\\ncreated:        2018-10-01T11:04:53Z\\nlast-modified:  2018-10-01T11:04:53Z\\nsource:         RIPE\\n\\nperson:         Michal Bako\\naddress:        EMU HR Innovations s.r.o.\\naddress:        Trziste 366/13\\naddress:        118 00 Praha 1\\naddress:        Czech Republic\\ne-mail:         michal.bako@employeemoodup.com\\nphone:          +420 777 698 217\\nnic-hdl:        MB46829-RIPE\\nmnt-by:         DKI-MNT\\ncreated:        2018-10-01T11:04:52Z\\nlast-modified:  2018-10-01T11:04:52Z\\nsource:         RIPE\\n\\n% Information related to '86.49.0.0/17AS6830'\\n\\nroute:          86.49.0.0/17\\ndescr:          UPC Ceska republika, a.s.\\norigin:         AS6830\\nmnt-by:         AS6830-MNT\\ncreated:        2015-12-02T10:43:29Z\\nlast-modified:  2015-12-02T10:43:29Z\\nsource:         RIPE\\n\\n% This query was served by the RIPE Database Query Service version 1.94 (WAGYU)\",\n",
       "   'registrant': {'country': 'CZECH REPUBLIC',\n",
       "    'countryCode': 'CZ',\n",
       "    'name': 'EMU - HR Innovations s.r.o.',\n",
       "    'organization': 'CZ-EMU',\n",
       "    'rawText': 'netname:        CZ-EMU\\ndescr:          EMU - HR Innovations s.r.o.\\ndescr:          Praha\\ncountry:        CZ\\n',\n",
       "    'street1': 'Praha'},\n",
       "   'registrarIANAID': '1507',\n",
       "   'registrarName': 'RIPE',\n",
       "   'status': 'ASSIGNED PA',\n",
       "   'strippedText': \"\\n% Information related to '86.49.93.144 - 86.49.93.151'\\n\\n% Abuse contact for '86.49.93.144 - 86.49.93.151' is 'abuse@upcmail.cz'\\n\\ninetnum:        86.49.93.144 - 86.49.93.151\\nnetname:        CZ-EMU\\ndescr:          EMU - HR Innovations s.r.o.\\ndescr:          Praha\\ncountry:        CZ\\nadmin-c:        MB46829-RIPE\\ntech-c:         MB46829-RIPE\\nstatus:         ASSIGNED PA\\nmnt-by:         DKI-MNT\\ncreated:        2018-10-01T11:04:53Z\\nlast-modified:  2018-10-01T11:04:53Z\\nsource:         RIPE\\n\\nperson:         Michal Bako\\naddress:        EMU HR Innovations s.r.o.\\naddress:        Trziste 366/13\\naddress:        118 00 Praha 1\\naddress:        Czech Republic\\ne-mail:         michal.bako@employeemoodup.com\\nphone:          +420 777 698 217\\nnic-hdl:        MB46829-RIPE\\nmnt-by:         DKI-MNT\\ncreated:        2018-10-01T11:04:52Z\\nlast-modified:  2018-10-01T11:04:52Z\\nsource:         RIPE\\n\\n% Information related to '86.49.0.0/17AS6830'\\n\\nroute:          86.49.0.0/17\\ndescr:          UPC Ceska republika, a.s.\\norigin:         AS6830\\nmnt-by:         AS6830-MNT\\ncreated:        2015-12-02T10:43:29Z\\nlast-modified:  2015-12-02T10:43:29Z\\nsource:         RIPE\\n\\n% This query was served by the RIPE Database Query Service version 1.94 (WAGYU)\",\n",
       "   'updatedDate': '2015-12-02T10:43:29Z',\n",
       "   'updatedDateNormalized': '2015-12-02 00:00:00 UTC'}}}"
      ]
     },
     "execution_count": 12,
     "metadata": {},
     "output_type": "execute_result"
    }
   ],
   "source": [
    "r.json()"
   ]
  },
  {
   "cell_type": "markdown",
   "metadata": {},
   "source": [
    "### geolocation API"
   ]
  },
  {
   "cell_type": "code",
   "execution_count": 4,
   "metadata": {},
   "outputs": [],
   "source": [
    "r= requests.get('https://geoipify.whoisxmlapi.com/api/v1',\n",
    "               params={'outputFormat':'JSON',\n",
    "                      'apiKey': config.WHOIS_KEY,\n",
    "                      'ipAddress': test_ip}\n",
    "               )"
   ]
  },
  {
   "cell_type": "code",
   "execution_count": 5,
   "metadata": {},
   "outputs": [
    {
     "data": {
      "text/plain": [
       "{'as': {'asn': 6830,\n",
       "  'domain': 'http://www.libertyglobal.com/',\n",
       "  'name': 'Liberty Global',\n",
       "  'route': '86.49.0.0/17',\n",
       "  'type': 'Cable/DSL/ISP'},\n",
       " 'domains': ['86.49.93.146.static.b2b.upcbusiness.cz'],\n",
       " 'ip': '86.49.93.146',\n",
       " 'isp': 'UPC Ceska Republica',\n",
       " 'location': {'city': 'Prague',\n",
       "  'country': 'CZ',\n",
       "  'geonameId': 3067696,\n",
       "  'lat': 50.0766,\n",
       "  'lng': 14.5148,\n",
       "  'postalCode': '130 00',\n",
       "  'region': 'Hlavni mesto Praha',\n",
       "  'timezone': '+02:00'}}"
      ]
     },
     "execution_count": 5,
     "metadata": {},
     "output_type": "execute_result"
    }
   ],
   "source": [
    "r.json()"
   ]
  }
 ],
 "metadata": {
  "kernelspec": {
   "display_name": "Python 3",
   "language": "python",
   "name": "python3"
  },
  "language_info": {
   "codemirror_mode": {
    "name": "ipython",
    "version": 3
   },
   "file_extension": ".py",
   "mimetype": "text/x-python",
   "name": "python",
   "nbconvert_exporter": "python",
   "pygments_lexer": "ipython3",
   "version": "3.5.2"
  }
 },
 "nbformat": 4,
 "nbformat_minor": 2
}
